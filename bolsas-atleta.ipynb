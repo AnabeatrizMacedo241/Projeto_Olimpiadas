{
 "cells": [
  {
   "cell_type": "markdown",
   "source": [
    "### Bibliotecas"
   ],
   "metadata": {}
  },
  {
   "cell_type": "code",
   "execution_count": 69,
   "source": [
    "import numpy as np\r\n",
    "import pandas as pd\r\n",
    "import PyPDF2 \r\n",
    "import re"
   ],
   "outputs": [],
   "metadata": {}
  },
  {
   "cell_type": "markdown",
   "source": [
    "### Scraping PDF"
   ],
   "metadata": {}
  },
  {
   "cell_type": "code",
   "execution_count": 62,
   "source": [
    "# criando um arquivo para o pdf\r\n",
    "pdf = open('./Data/jogostoquio.pdf', 'rb') \r\n",
    " \r\n",
    "# criando um objeto para lercreating a pdf reader object \r\n",
    "ler_pdf = PyPDF2.PdfFileReader(pdf)\r\n",
    "\r\n",
    "# número de páginas do pdf\r\n",
    "total = ler_pdf.getNumPages()\r\n",
    "# print(total)\r\n",
    "\r\n",
    "# extraindo o texto da página\r\n",
    "with open('bolsas.txt',mode=\"w\") as output_file:\r\n",
    "    for p in range(4,total):\r\n",
    "        paginas = ler_pdf.getPage(p)  \r\n",
    "        extraindo = print(paginas.extractText()) \r\n",
    "        output_file.write(extraindo)"
   ],
   "outputs": [
    {
     "output_type": "stream",
     "name": "stderr",
     "text": [
      "PdfReadWarning: Xref table not zero-indexed. ID numbers for objects will be corrected. [pdf.py:1736]\n"
     ]
    },
    {
     "output_type": "stream",
     "name": "stdout",
     "text": [
      "Feminino\n",
      "ANA CAROLINA DE JESUS AZEVEDO\n",
      "Nascimento:\n",
      " 19/5/1998 (23 anos)Naturalidade:\n",
      " São Roque (SP)\n",
      "Prova:\n",
      " 200m e 4X100m feminino\n",
      "Bolsa Atleta 2021:\n",
      " internacional\n",
      "Bolsa Atleta no ciclo olímpico:\n",
      " 2017, 2018, 2019, 2020\n",
      "Olimpíadas:\n",
      " estreante\n",
      "Instagram:\n",
      " @ana_azevedo15\n",
      "Histórico esportivo:\n",
      " Estreou aos 17 anos, no Mundial Escolar de \n",
      "Atletismo, disputado na China, e venceu a prova dos 200 metros \n",
      "rasos. No ano passado, foi campeã do Troféu Brasil Caixa de Atle\n",
      "-tismo nos 200m e levou a medalha de prata no Brasileiro Caixa \n",
      "Sub 23. Nesta competição, Ana Carolina melhorou duas vezes o re\n",
      "-corde do campeonato e foi eleita a melhor atleta. Este ano, durante \n",
      "o Campeonato Sul-Americano Adulto de Atletismo, em Guayaquil, \n",
      "no Equador, a atleta conquistou o bronze nos 200m e o ouro no re\n",
      "-vezamento dos 4×100m. É atleta do Programa de Alto Rendimento \n",
      "das Forças Armadas, na Marinha do Brasil.\n",
      "ANA CLAUDIA LEMOS DA SILVA\n",
      "Nascimento:\n",
      " 6/11/1988 (32 anos)Naturalidade:\n",
      " Jaguaretama (CE)\n",
      "Prova:\n",
      " 4X100m feminino\n",
      "Bolsa Atleta 2021:\n",
      " Olímpica\n",
      "Bolsa Atleta no ciclo olímpico:\n",
      " 2017, 2018, 2019 e 2020\n",
      "Olimpíadas:\n",
      " Pequim 2008, Londres 2012 e Rio 2016\n",
      "Instagram:\n",
      " @aninhaclemos\n",
      "Histórico esportivo:\n",
      " Especialista nas provas de velocidade, Ana \n",
      "Claudia Lemos tem no currículo o bronze herdado pelo revezamen\n",
      "-to 4 x 100m do Brasil nos Jogos Olímpicos de Pequim, em 2008, \n",
      "após a eliminação da Rússia por doping. Já foi recordista brasileira \n",
      "dos 100m e 200m e teve um ciclo recente pontuado por lesões. \n",
      "Chega aos Jogos de Tóquio recuperada fisicamente e animada pelo \n",
      "ouro no revezamento 4 x 100m no Sul-Americano de Guayaquil, no \n",
      "Equador, em junho.\n",
      "5Atletismo\n",
      "Sumário\n",
      "\n"
     ]
    },
    {
     "output_type": "error",
     "ename": "TypeError",
     "evalue": "write() argument must be str, not None",
     "traceback": [
      "\u001b[1;31m---------------------------------------------------------------------------\u001b[0m",
      "\u001b[1;31mTypeError\u001b[0m                                 Traceback (most recent call last)",
      "\u001b[1;32m<ipython-input-62-2fcf11ad0459>\u001b[0m in \u001b[0;36m<module>\u001b[1;34m\u001b[0m\n\u001b[0;32m     14\u001b[0m         \u001b[0mpaginas\u001b[0m \u001b[1;33m=\u001b[0m \u001b[0mler_pdf\u001b[0m\u001b[1;33m.\u001b[0m\u001b[0mgetPage\u001b[0m\u001b[1;33m(\u001b[0m\u001b[0mp\u001b[0m\u001b[1;33m)\u001b[0m\u001b[1;33m\u001b[0m\u001b[1;33m\u001b[0m\u001b[0m\n\u001b[0;32m     15\u001b[0m         \u001b[0mextraindo\u001b[0m \u001b[1;33m=\u001b[0m \u001b[0mprint\u001b[0m\u001b[1;33m(\u001b[0m\u001b[0mpaginas\u001b[0m\u001b[1;33m.\u001b[0m\u001b[0mextractText\u001b[0m\u001b[1;33m(\u001b[0m\u001b[1;33m)\u001b[0m\u001b[1;33m)\u001b[0m\u001b[1;33m\u001b[0m\u001b[1;33m\u001b[0m\u001b[0m\n\u001b[1;32m---> 16\u001b[1;33m         \u001b[0moutput_file\u001b[0m\u001b[1;33m.\u001b[0m\u001b[0mwrite\u001b[0m\u001b[1;33m(\u001b[0m\u001b[0mextraindo\u001b[0m\u001b[1;33m)\u001b[0m\u001b[1;33m\u001b[0m\u001b[1;33m\u001b[0m\u001b[0m\n\u001b[0m",
      "\u001b[1;31mTypeError\u001b[0m: write() argument must be str, not None"
     ]
    }
   ],
   "metadata": {}
  },
  {
   "cell_type": "code",
   "execution_count": 64,
   "source": [
    "textfile = open('./Data/bolsas_brasil.txt', 'r')\r\n",
    "filetext = textfile.read()\r\n",
    "textfile.close()\r\n",
    "matches = re.findall(\"[a-z]\", filetext)"
   ],
   "outputs": [
    {
     "output_type": "error",
     "ename": "UnicodeDecodeError",
     "evalue": "'charmap' codec can't decode byte 0x81 in position 20063: character maps to <undefined>",
     "traceback": [
      "\u001b[1;31m---------------------------------------------------------------------------\u001b[0m",
      "\u001b[1;31mUnicodeDecodeError\u001b[0m                        Traceback (most recent call last)",
      "\u001b[1;32m<ipython-input-64-44e6dc1abbd1>\u001b[0m in \u001b[0;36m<module>\u001b[1;34m\u001b[0m\n\u001b[0;32m      1\u001b[0m \u001b[0mtextfile\u001b[0m \u001b[1;33m=\u001b[0m \u001b[0mopen\u001b[0m\u001b[1;33m(\u001b[0m\u001b[1;34m'./Data/bolsas_brasil.txt'\u001b[0m\u001b[1;33m,\u001b[0m \u001b[1;34m'r'\u001b[0m\u001b[1;33m)\u001b[0m\u001b[1;33m\u001b[0m\u001b[1;33m\u001b[0m\u001b[0m\n\u001b[1;32m----> 2\u001b[1;33m \u001b[0mfiletext\u001b[0m \u001b[1;33m=\u001b[0m \u001b[0mtextfile\u001b[0m\u001b[1;33m.\u001b[0m\u001b[0mread\u001b[0m\u001b[1;33m(\u001b[0m\u001b[1;33m)\u001b[0m\u001b[1;33m\u001b[0m\u001b[1;33m\u001b[0m\u001b[0m\n\u001b[0m\u001b[0;32m      3\u001b[0m \u001b[0mtextfile\u001b[0m\u001b[1;33m.\u001b[0m\u001b[0mclose\u001b[0m\u001b[1;33m(\u001b[0m\u001b[1;33m)\u001b[0m\u001b[1;33m\u001b[0m\u001b[1;33m\u001b[0m\u001b[0m\n\u001b[0;32m      4\u001b[0m \u001b[0mmatches\u001b[0m \u001b[1;33m=\u001b[0m \u001b[0mre\u001b[0m\u001b[1;33m.\u001b[0m\u001b[0mfindall\u001b[0m\u001b[1;33m(\u001b[0m\u001b[1;34m\"[a-z]\"\u001b[0m\u001b[1;33m,\u001b[0m \u001b[0mfiletext\u001b[0m\u001b[1;33m)\u001b[0m\u001b[1;33m\u001b[0m\u001b[1;33m\u001b[0m\u001b[0m\n",
      "\u001b[1;32m~\\AppData\\Local\\Programs\\Python\\Python39\\lib\\encodings\\cp1252.py\u001b[0m in \u001b[0;36mdecode\u001b[1;34m(self, input, final)\u001b[0m\n\u001b[0;32m     21\u001b[0m \u001b[1;32mclass\u001b[0m \u001b[0mIncrementalDecoder\u001b[0m\u001b[1;33m(\u001b[0m\u001b[0mcodecs\u001b[0m\u001b[1;33m.\u001b[0m\u001b[0mIncrementalDecoder\u001b[0m\u001b[1;33m)\u001b[0m\u001b[1;33m:\u001b[0m\u001b[1;33m\u001b[0m\u001b[1;33m\u001b[0m\u001b[0m\n\u001b[0;32m     22\u001b[0m     \u001b[1;32mdef\u001b[0m \u001b[0mdecode\u001b[0m\u001b[1;33m(\u001b[0m\u001b[0mself\u001b[0m\u001b[1;33m,\u001b[0m \u001b[0minput\u001b[0m\u001b[1;33m,\u001b[0m \u001b[0mfinal\u001b[0m\u001b[1;33m=\u001b[0m\u001b[1;32mFalse\u001b[0m\u001b[1;33m)\u001b[0m\u001b[1;33m:\u001b[0m\u001b[1;33m\u001b[0m\u001b[1;33m\u001b[0m\u001b[0m\n\u001b[1;32m---> 23\u001b[1;33m         \u001b[1;32mreturn\u001b[0m \u001b[0mcodecs\u001b[0m\u001b[1;33m.\u001b[0m\u001b[0mcharmap_decode\u001b[0m\u001b[1;33m(\u001b[0m\u001b[0minput\u001b[0m\u001b[1;33m,\u001b[0m\u001b[0mself\u001b[0m\u001b[1;33m.\u001b[0m\u001b[0merrors\u001b[0m\u001b[1;33m,\u001b[0m\u001b[0mdecoding_table\u001b[0m\u001b[1;33m)\u001b[0m\u001b[1;33m[\u001b[0m\u001b[1;36m0\u001b[0m\u001b[1;33m]\u001b[0m\u001b[1;33m\u001b[0m\u001b[1;33m\u001b[0m\u001b[0m\n\u001b[0m\u001b[0;32m     24\u001b[0m \u001b[1;33m\u001b[0m\u001b[0m\n\u001b[0;32m     25\u001b[0m \u001b[1;32mclass\u001b[0m \u001b[0mStreamWriter\u001b[0m\u001b[1;33m(\u001b[0m\u001b[0mCodec\u001b[0m\u001b[1;33m,\u001b[0m\u001b[0mcodecs\u001b[0m\u001b[1;33m.\u001b[0m\u001b[0mStreamWriter\u001b[0m\u001b[1;33m)\u001b[0m\u001b[1;33m:\u001b[0m\u001b[1;33m\u001b[0m\u001b[1;33m\u001b[0m\u001b[0m\n",
      "\u001b[1;31mUnicodeDecodeError\u001b[0m: 'charmap' codec can't decode byte 0x81 in position 20063: character maps to <undefined>"
     ]
    }
   ],
   "metadata": {}
  }
 ],
 "metadata": {
  "orig_nbformat": 4,
  "language_info": {
   "name": "python",
   "version": "3.9.2",
   "mimetype": "text/x-python",
   "codemirror_mode": {
    "name": "ipython",
    "version": 3
   },
   "pygments_lexer": "ipython3",
   "nbconvert_exporter": "python",
   "file_extension": ".py"
  },
  "kernelspec": {
   "name": "python3",
   "display_name": "Python 3.9.2 64-bit"
  },
  "interpreter": {
   "hash": "34d276ea37b3d67f5f4bee3739ccf172b0d800a41da6c574e378ee2d575d0eb8"
  }
 },
 "nbformat": 4,
 "nbformat_minor": 2
}