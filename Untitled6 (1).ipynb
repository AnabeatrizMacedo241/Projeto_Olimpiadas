{
 "cells": [
  {
   "cell_type": "code",
   "execution_count": 15,
   "source": [
    "from selenium import webdriver\r\n",
    "from selenium.webdriver.common.keys import Keys\r\n",
    "import pandas as pd"
   ],
   "outputs": [],
   "metadata": {}
  },
  {
   "cell_type": "code",
   "execution_count": 4,
   "source": [
    "def obter_driver():\r\n",
    "    return webdriver.Chrome()\r\n",
    "\r\n",
    "def abrir_pagina(driver):\r\n",
    "    driver.get(\"http://www.olympedia.org/statistics/medal/athlete\")"
   ],
   "outputs": [],
   "metadata": {}
  },
  {
   "cell_type": "code",
   "execution_count": 5,
   "source": [
    "driver = obter_driver()\r\n",
    "abrir_pagina(driver)"
   ],
   "outputs": [],
   "metadata": {}
  },
  {
   "cell_type": "code",
   "execution_count": 6,
   "source": [
    "medals_by_athlete = driver.find_element_by_xpath(\"\"\"//*[@id=\"country_select\"]\"\"\")\r\n",
    "medals_by_athlete.click()"
   ],
   "outputs": [],
   "metadata": {}
  },
  {
   "cell_type": "code",
   "execution_count": 7,
   "source": [
    "country = driver.find_element_by_xpath(\"\"\"//*[@id=\"country_select\"]/option[32]\"\"\")\r\n",
    "country.click()"
   ],
   "outputs": [],
   "metadata": {}
  },
  {
   "cell_type": "code",
   "execution_count": 8,
   "source": [
    "top = driver.find_element_by_xpath(\"\"\"//*[@id=\"filter\"]/select[10]\"\"\")\r\n",
    "top.click()"
   ],
   "outputs": [],
   "metadata": {}
  },
  {
   "cell_type": "code",
   "execution_count": 11,
   "source": [
    "top_all = driver.find_element_by_xpath(\"\"\"//*[@id=\"filter\"]/select[10]/option[3]\"\"\")\r\n",
    "top_all.click()"
   ],
   "outputs": [],
   "metadata": {}
  },
  {
   "cell_type": "code",
   "execution_count": 13,
   "source": [
    "conteudo = []\r\n",
    "brazil = driver.find_element_by_xpath(\"\"\"//*[@id=\"medals\"]\"\"\")\r\n",
    "conteudo.append(brazil.text.split())\r\n",
    "print(conteudo)"
   ],
   "outputs": [
    {
     "output_type": "stream",
     "name": "stdout",
     "text": [
      "['Athlete Nat Gold Silver Bronze Total\\nRobert Scheidt BRA 2 2 1 5\\nSerginho BRA 2 2 0 4\\nTorben Grael BRA 2 1 2 5\\nMarcelo Ferreira BRA 2 0 1 3\\nGiovane BRA 2 0 0 2\\nMaurício BRA 2 0 0 2\\nAdhemar da Silva BRA 2 0 0 2\\nFabiana BRA 2 0 0 2\\nPaula BRA 2 0 0 2\\nThaísa BRA 2 0 0 2\\nJaque BRA 2 0 0 2\\nSheilla BRA 2 0 0 2\\nFabi BRA 2 0 0 2\\nKahena Kunze BRA 2 0 0 2\\nMartine Grael BRA 2 0 0 2\\nCaio César dos Santos BRA 2 0 0 2\\nIsaquias Queiroz BRA 1 2 1 4\\nDante BRA 1 2 0 3\\nGiba BRA 1 2 0 3\\nRodrigão BRA 1 2 0 3\\nBruninho BRA 1 2 0 3\\nFlávia Saraiva BRA 1 2 0 3\\nMatheus Santana BRA 1 2 0 3\\nEmanuel BRA 1 1 1 3\\nRicardo BRA 1 1 1 3\\nThiago Braz BRA 1 1 1 3\\nAmauri BRA 1 1 0 2\\nJoaquim Cruz BRA 1 1 0 2\\nGustavo BRA 1 1 0 2\\nAndré Heller BRA 1 1 0 2\\nRicardinho BRA 1 1 0 2\\nAndré Nascimento BRA 1 1 0 2\\nAnderson BRA 1 1 0 2\\nArthur Zanetti BRA 1 1 0 2\\nFê Garay BRA 1 1 0 2\\nNatália BRA 1 1 0 2\\nTandara BRA 1 1 0 2\\nAlison BRA 1 1 0 2\\nNeymar BRA 1 1 0 2\\nLucão BRA 1 1 0 2\\nWallace BRA 1 1 0 2\\nRebeca Andrade BRA 1 1 0 2\\nLayana Colman BRA 1 1 0 2\\nOrlando Luz BRA 1 1 0 2\\nRodrigo Pessoa BRA 1 0 2 3\\nFofão BRA 1 0 2 3\\nCésar Cielo Filho BRA 1 0 2 3\\nAurélio Miguel BRA 1 0 1 2\\nGuilherme Paraense BRA 1 0 1 2\\nSandra BRA 1 0 1 2\\nWalewska BRA 1 0 1 2\\nRogério Sampaio BRA 1 0 0 1\\nJackie Silva BRA 1 0 0 1\\nNalbert BRA 1 0 0 1\\nJorge Edson BRA 1 0 0 1\\nJanelson BRA 1 0 0 1\\nDouglas BRA 1 0 0 1\\nPaulão BRA 1 0 0 1\\nPampa BRA 1 0 0 1\\nCarlão BRA 1 0 0 1\\nMarcelo Negrão BRA 1 0 0 1\\nTalmo BRA 1 0 0 1\\nTande BRA 1 0 0 1\\nLars Bjorkstrom BRA 1 0 0 1\\nEduardo Penido BRA 1 0 0 1\\nMarcos Soares BRA 1 0 0 1\\nAlex Welter BRA 1 0 0 1\\nMaurren Maggi BRA 1 0 0 1\\nSassá BRA 1 0 0 1\\nValeskinha BRA 1 0 0 1\\nMari BRA 1 0 0 1\\nSarah Menezes BRA 1 0 0 1\\nRobson Conceição BRA 1 0 0 1\\nCarol BRA 1 0 0 1\\nAna Marcela Cunha BRA 1 0 0 1\\nRafaela Silva BRA 1 0 0 1\\nAdenízia BRA 1 0 0 1\\nDani Lins BRA 1 0 0 1\\nFernandinha BRA 1 0 0 1\\nBruno Schmidt BRA 1 0 0 1\\nFelipe Anderson BRA 1 0 0 1\\nRenato Augusto BRA 1 0 0 1\\nGabriel Barbosa BRA 1 0 0 1\\nRodrigo Caio BRA 1 0 0 1\\nRodrigo Dourado BRA 1 0 0 1\\nGabriel Jesus BRA 1 0 0 1\\nLuan BRA 1 0 0 1\\nThiago Maia BRA 1 0 0 1\\nMarquinhos BRA 1 0 0 1\\nRafinha BRA 1 0 0 1\\nDouglas Santos BRA 1 0 0 1\\nWalace BRA 1 0 0 1\\nWilliam BRA 1 0 0 1\\nZeca BRA 1 0 0 1\\nDouglas Souza BRA 1 0 0 1\\nÉder BRA 1 0 0 1\\nGuerra BRA 1 0 0 1\\nLuiz Felipe BRA 1 0 0 1\\nMaurício Borges BRA 1 0 0 1\\nMaurício Souza BRA 1 0 0 1\\nRicardo Lucarelli BRA 1 0 0 1\\nWilliam Arjona BRA 1 0 0 1\\nWéverton BRA 1 0 0 1\\nLuan Garcia BRA 1 0 0 1\\nHebert Conceição Sousa BRA 1 0 0 1\\nAbner BRA 1 0 0 1\\nAntony BRA 1 0 0 1\\nBrenno BRA 1 0 0 1\\nBruno Fuchs BRA 1 0 0 1\\nBruno Guimarães BRA 1 0 0 1\\nClaudinho BRA 1 0 0 1\\nDani Alves BRA 1 0 0 1\\nDiego Carlos BRA 1 0 0 1\\nDouglas Luiz BRA 1 0 0 1\\nGabriel Martinelli BRA 1 0 0 1\\nGabriel Menino BRA 1 0 0 1\\nGuilherme Arana BRA 1 0 0 1\\nLucão BRA 1 0 0 1\\nMatheus Cunha BRA 1 0 0 1\\nMatheus Henrique BRA 1 0 0 1\\nNino BRA 1 0 0 1\\nPaulinho BRA 1 0 0 1\\nReinier BRA 1 0 0 1\\nRicharlison BRA 1 0 0 1\\nSantos BRA 1 0 0 1\\nÍtalo Ferreira BRA 1 0 0 1\\nRicardo Graça BRA 1 0 0 1\\nMalcom BRA 1 0 0 1\\nDavid da Costa BRA 1 0 0 1\\nEduarda Lisboa BRA 1 0 0 1\\nAna Patrícia Ramos BRA 1 0 0 1\\nMarcelo Silva BRA 1 0 0 1\\nEdival Pontes BRA 1 0 0 1\\nKeno Machado BRA 1 0 0 1\\nJoão Victor Alves Sena BRA 1 0 0 1\\nMatheus Batista BRA 1 0 0 1\\nVitor da Silva BRA 1 0 0 1\\nWesley de Franca BRA 1 0 0 1\\nBreno Dendal Rosa BRA 1 0 0 1\\nYuri Gavião BRA 1 0 0 1\\nCaio Miller Valle BRA 1 0 0 1\\nFrançoar Rodrigues BRA 1 0 0 1\\nGuilherme Sanches BRA 1 0 0 1\\nMateus Silva BRA 1 0 0 1\\nGustavo Borges BRA 0 2 2 4\\nPretinha BRA 0 2 0 2\\nFormiga BRA 0 2 0 2\\nTânia Maranhão BRA 0 2 0 2\\nAdemir BRA 0 2 0 2\\nLuís Carlos Winck BRA 0 2 0 2\\nAndréia BRA 0 2 0 2\\nDaniela BRA 0 2 0 2\\nMaycon BRA 0 2 0 2\\nRosana BRA 0 2 0 2\\nShelda BRA 0 2 0 2\\nAdriana Behar BRA 0 2 0 2\\nKóki BRA 0 2 0 2\\nMarta BRA 0 2 0 2\\nCristiane BRA 0 2 0 2\\nMurilo BRA 0 2 0 2\\nFelipe Wu BRA 0 2 0 2\\nLucas Costa Peixoto BRA 0 2 0 2\\nAndré de Souza BRA 0 2 0 2\\nRafaela Raurich BRA 0 2 0 2\\nAna Carolina Vieira BRA 0 2 0 2\\nMarta Sobral BRA 0 1 1 2\\nJaneth BRA 0 1 1 2\\nAlessandra BRA 0 1 1 2\\nAdriana BRA 0 1 1 2\\nSilvinha BRA 0 1 1 2\\nCíntia BRA 0 1 1 2\\nBebeto BRA 0 1 1 2\\nAfrânio da Costa BRA 0 1 1 2\\nAdriana Samuel BRA 0 1 1 2\\nAndré da Silva BRA 0 1 1 2\\nNélson Prudêncio BRA 0 1 1 2\\nÉdson Ribeiro BRA 0 1 1 2\\nVicente Lenílson BRA 0 1 1 2\\nTiago Camilo BRA 0 1 1 2\\nMarcelo BRA 0 1 1 2\\nAlexandre Pato BRA 0 1 1 2\\nThiago Silva BRA 0 1 1 2\\nBruno Prada BRA 0 1 1 2\\nDiogo Soares BRA 0 1 1 2\\nLeila BRA 0 1 0 1\\nRoseli BRA 0 1 0 1\\nHortência BRA 0 1 0 1\\nCláudia BRA 0 1 0 1\\nBranca BRA 0 1 0 1\\nPaula BRA 0 1 0 1\\nAloísio BRA 0 1 0 1\\nAndrade BRA 0 1 0 1\\nEdmar BRA 0 1 0 1\\nPinga BRA 0 1 0 1\\nDavi BRA 0 1 0 1\\nAndré Cruz BRA 0 1 0 1\\nMílton da Cruz BRA 0 1 0 1\\nJorginho BRA 0 1 0 1\\nCareca BRA 0 1 0 1\\nRomário BRA 0 1 0 1\\nMilton BRA 0 1 0 1\\nJoão Paulo BRA 0 1 0 1\\nAndré Luís BRA 0 1 0 1\\nNeto BRA 0 1 0 1\\nMauro Galvão BRA 0 1 0 1\\nTonho Gil BRA 0 1 0 1\\nKita BRA 0 1 0 1\\nTaffarel BRA 0 1 0 1\\nSilvinho BRA 0 1 0 1\\nGilmar BRA 0 1 0 1\\nPaulo Santos BRA 0 1 0 1\\nBatista BRA 0 1 0 1\\nGeovani BRA 0 1 0 1\\nRonaldo BRA 0 1 0 1\\nDunga BRA 0 1 0 1\\nChicão BRA 0 1 0 1\\nDouglas Vieira BRA 0 1 0 1\\nRicardo Prado BRA 0 1 0 1\\nMônica Rodrigues BRA 0 1 0 1\\nZé Marco BRA 0 1 0 1\\nRui BRA 0 1 0 1\\nWilliam BRA 0 1 0 1\\nRenan BRA 0 1 0 1\\nFernandão BRA 0 1 0 1\\nMarcus Vinícius BRA 0 1 0 1\\nDomingos Maracanã BRA 0 1 0 1\\nMontanaro BRA 0 1 0 1\\nBernard BRA 0 1 0 1\\nBadalhoca BRA 0 1 0 1\\nBernardinho BRA 0 1 0 1\\nDaniel Adler BRA 0 1 0 1\\nRonaldo Senfft BRA 0 1 0 1\\nClaudinei da Silva BRA 0 1 0 1\\nCláudio Sousa BRA 0 1 0 1\\nJuliana BRA 0 1 0 1\\nMônica BRA 0 1 0 1\\nRoseli BRA 0 1 0 1\\nSimone BRA 0 1 0 1\\nCarlos Honorato BRA 0 1 0 1\\nMarcelinho BRA 0 1 0 1\\nXandó BRA 0 1 0 1\\nGrazielle BRA 0 1 0 1\\nElaine BRA 0 1 0 1\\nThiago Pereira BRA 0 1 0 1\\nMárcio BRA 0 1 0 1\\nKelly Cristina BRA 0 1 0 1\\nAline BRA 0 1 0 1\\nAndréia Rosa BRA 0 1 0 1\\nÉrika BRA 0 1 0 1\\nEster BRA 0 1 0 1\\nFrancielle BRA 0 1 0 1\\nDiego Hypólito BRA 0 1 0 1\\nFábio BRA 0 1 0 1\\nBárbara BRA 0 1 0 1\\nFabiana BRA 0 1 0 1\\nMaurine BRA 0 1 0 1\\nSamuel BRA 0 1 0 1\\nGilmar Popoca BRA 0 1 0 1\\nEsquiva Florentino BRA 0 1 0 1\\nErlon Silva BRA 0 1 0 1\\nAlex Sandro BRA 0 1 0 1\\nSandro BRA 0 1 0 1\\nGanso BRA 0 1 0 1\\nHulk BRA 0 1 0 1\\nLeandro Damião BRA 0 1 0 1\\nJuan BRA 0 1 0 1\\nOscar BRA 0 1 0 1\\nRômulo BRA 0 1 0 1\\nNeto BRA 0 1 0 1\\nRafael BRA 0 1 0 1\\nGabriel BRA 0 1 0 1\\nDanilo BRA 0 1 0 1\\nBruno Uvini BRA 0 1 0 1\\nLeandro Vissotto BRA 0 1 0 1\\nSidão BRA 0 1 0 1\\nThiago Alves BRA 0 1 0 1\\nLucas BRA 0 1 0 1\\nÁgatha BRA 0 1 0 1\\nBárbara BRA 0 1 0 1\\nNatalia de Luccas BRA 0 1 0 1\\nGabi BRA 0 1 0 1\\nMarcus D’Almeida BRA 0 1 0 1\\nLuiz Altamir BRA 0 1 0 1\\nBeatriz Ferreira BRA 0 1 0 1\\nRayssa Leal BRA 0 1 0 1\\nAna Beatriz Corrêa BRA 0 1 0 1\\nAna Carolina Da Silva BRA 0 1 0 1\\nAna Cristina Souza BRA 0 1 0 1\\nCamila Brait BRA 0 1 0 1\\nCarol Gattaz BRA 0 1 0 1\\nMacris Carneiro BRA 0 1 0 1\\nRoberta Ratzke BRA 0 1 0 1\\nRosamaria Montibeller BRA 0 1 0 1\\nKelvin Hoefler BRA 0 1 0 1\\nPedro Barros BRA 0 1 0 1\\nFlávia Gomes BRA 0 1 0 1\\nBianca Rodrigues BRA 0 1 0 1\\nGiovanna Diamante BRA 0 1 0 1\\nVitor de Souza BRA 0 1 0 1\\nMurilo Sartori BRA 0 1 0 1\\nFernanda de Goeij BRA 0 1 0 1\\nMaria Pessanha BRA 0 1 0 1\\nMayra Aguiar BRA 0 0 3 3\\nWlamir Marques BRA 0 0 2 2\\nEdson Bispo BRA 0 0 2 2\\nAlgodão BRA 0 0 2 2\\nRosa Branca BRA 0 0 2 2\\nMosquito BRA 0 0 2 2\\nAmaury BRA 0 0 2 2\\nSucar BRA 0 0 2 2\\nJatyr BRA 0 0 2 2\\nLuiz Felipe de Azevedo BRA 0 0 2 2\\nAndré Johannpeter BRA 0 0 2 2\\nDoda BRA 0 0 2 2\\nXuxa Scherer BRA 0 0 2 2\\nLeila BRA 0 0 2 2\\nVirna BRA 0 0 2 2\\nReinaldo Conrad BRA 0 0 2 2\\nLars Grael BRA 0 0 2 2\\nRóbson Caetano da Silva BRA 0 0 2 2\\nJoão do Pulo BRA 0 0 2 2\\nLeandro Guilheiro BRA 0 0 2 2\\nRafael Silva BRA 0 0 2 2\\nHelen BRA 0 0 1 1\\nAfonso Évora BRA 0 0 1 1\\nWaldemar Blatskauskas BRA 0 0 1 1\\nMoysés Blás BRA 0 0 1 1\\nFritz BRA 0 0 1 1\\nBráz BRA 0 0 1 1\\nRuy de Freitas BRA 0 0 1 1\\nMacarrão BRA 0 0 1 1\\nMarcus Vinícius Dias BRA 0 0 1 1\\nEdvar Simões BRA 0 0 1 1\\nAlexandre Gemignani BRA 0 0 1 1\\nBoccardo BRA 0 0 1 1\\nAlberto Marson BRA 0 0 1 1\\nVictor Mirshauswka BRA 0 0 1 1\\nNilton Pacheco BRA 0 0 1 1\\nFernando Brobró BRA 0 0 1 1\\nBira BRA 0 0 1 1\\nAlfredo da Motta BRA 0 0 1 1\\nMassinet Sorcinelli BRA 0 0 1 1\\nServilio de Oliveira BRA 0 0 1 1\\nFlávio Conceição BRA 0 0 1 1\\nZé Maria BRA 0 0 1 1\\nMarcelinho Paulista BRA 0 0 1 1\\nRivaldo BRA 0 0 1 1\\nJuninho Paulista BRA 0 0 1 1\\nLuizão BRA 0 0 1 1\\nRonaldo Guiaro BRA 0 0 1 1\\nRonaldo BRA 0 0 1 1\\nAmaral BRA 0 0 1 1\\nZé Elias BRA 0 0 1 1\\nAndré BRA 0 0 1 1\\nSávio BRA 0 0 1 1\\nNarciso BRA 0 0 1 1\\nAldair BRA 0 0 1 1\\nRoberto Carlos BRA 0 0 1 1\\nDida BRA 0 0 1 1\\nFlávio Canto BRA 0 0 1 1\\nWálter Carmona BRA 0 0 1 1\\nHenrique Guimarães BRA 0 0 1 1\\nChiaki Ishii BRA 0 0 1 1\\nLuiz Onmura BRA 0 0 1 1\\nDario Barbosa BRA 0 0 1 1\\nFernando Soledade BRA 0 0 1 1\\nSebastião Wolf BRA 0 0 1 1\\nManuel dos Santos BRA 0 0 1 1\\nJorge Fernandes BRA 0 0 1 1\\nDjan Madruga BRA 0 0 1 1\\nMarcus Mattioli BRA 0 0 1 1\\nCyro Delgado BRA 0 0 1 1\\nTetsuo Okamoto BRA 0 0 1 1\\nIda BRA 0 0 1 1\\nFiló BRA 0 0 1 1\\nHilma BRA 0 0 1 1\\nAna Paula BRA 0 0 1 1\\nMárcia Fu BRA 0 0 1 1\\nAna Moser BRA 0 0 1 1\\nFernanda BRA 0 0 1 1\\nAna Flávia BRA 0 0 1 1\\nSandra BRA 0 0 1 1\\nBurkhard Cordes BRA 0 0 1 1\\nNelson Falcão BRA 0 0 1 1\\nPeter Ficker BRA 0 0 1 1\\nClinio Freitas BRA 0 0 1 1\\nKiko Pellicano BRA 0 0 1 1\\nJosé da Conceição BRA 0 0 1 1\\nVanderlei de Lima BRA 0 0 1 1\\nArnaldo da Silva BRA 0 0 1 1\\nZaine BRA 0 0 1 1\\nLilian BRA 0 0 1 1\\nCláudinha BRA 0 0 1 1\\nAdrianinha BRA 0 0 1 1\\nKelly BRA 0 0 1 1\\nRonaldinho Gaúcho BRA 0 0 1 1\\nFernanda Oliveira BRA 0 0 1 1\\nCarlos Jayme BRA 0 0 1 1\\nEdvaldo Silva Filho BRA 0 0 1 1\\nKiki BRA 0 0 1 1\\nJanina BRA 0 0 1 1\\nKely BRA 0 0 1 1\\nRicarda BRA 0 0 1 1\\nKátia BRA 0 0 1 1\\nElisângela BRA 0 0 1 1\\nKarin BRA 0 0 1 1\\nRaquel BRA 0 0 1 1\\nRosemar Coelho BRA 0 0 1 1\\nLucimar Moura BRA 0 0 1 1\\nNatália Falavigna BRA 0 0 1 1\\nRenan BRA 0 0 1 1\\nRafinha BRA 0 0 1 1\\nAlex Silva BRA 0 0 1 1\\nBreno BRA 0 0 1 1\\nHernanes BRA 0 0 1 1\\nÂnderson BRA 0 0 1 1\\nLucas BRA 0 0 1 1\\nDiego BRA 0 0 1 1\\nRamires BRA 0 0 1 1\\nThiago Neves BRA 0 0 1 1\\nJô BRA 0 0 1 1\\nLarissa BRA 0 0 1 1\\nKetleyn Quadros BRA 0 0 1 1\\nIlsinho BRA 0 0 1 1\\nRafael Sóbis BRA 0 0 1 1\\nCodó BRA 0 0 1 1\\nSandro Viana BRA 0 0 1 1\\nBruno de Barros BRA 0 0 1 1\\nThaissa Presti BRA 0 0 1 1\\nRosângela Santos BRA 0 0 1 1\\nPoliana Okimoto BRA 0 0 1 1\\nYane Marques BRA 0 0 1 1\\nIsabel Swan BRA 0 0 1 1\\nAdriana Araújo BRA 0 0 1 1\\nYamaguchi Falcão BRA 0 0 1 1\\nBruno Fratus BRA 0 0 1 1\\nFelipe Kitadai BRA 0 0 1 1\\nAna Cláudia Lemos BRA 0 0 1 1\\nJuliana BRA 0 0 1 1\\nFran Rocha BRA 0 0 1 1\\nArthur Mariano BRA 0 0 1 1\\nMaicon Siqueira BRA 0 0 1 1\\nHugo Calderano BRA 0 0 1 1\\nAlison Dos Santos BRA 0 0 1 1\\nAbner Teixeira BRA 0 0 1 1\\nDaniel Cargnin BRA 0 0 1 1\\nFernando Scheffer BRA 0 0 1 1\\nLaura Pigossi BRA 0 0 1 1\\nKeila Alves BRA 0 0 1 1\\nLarissa Araújo BRA 0 0 1 1\\nLais da Silva BRA 0 0 1 1\\nPatricia da Silva BRA 0 0 1 1\\nJuliana de Araújo BRA 0 0 1 1\\nMirian Galvão BRA 0 0 1 1\\nIsadora Garcia BRA 0 0 1 1\\nThayanne Lopes BRA 0 0 1 1\\nFernanda Marques BRA 0 0 1 1\\nCaroline Martins BRA 0 0 1 1\\nDeborah Nunes BRA 0 0 1 1\\nDaise Souza BRA 0 0 1 1\\nAna Vieira BRA 0 0 1 1\\nLuisa Stefani BRA 0 0 1 1\\nLucas Vilar BRA 0 0 1 1\\nLuiz Chalot BRA 0 0 1 1\\nJoão Santos BRA 0 0 1 1\\nGilbert Klier Junior BRA 0 0 1 1\\nLetícia Lima BRA 0 0 1 1\\nJaqueline Lima BRA 0 0 1 1\\nEduarda Rosa BRA 0 0 1 1\\nSandy Macedo BRA 0 0 1 1']\n"
     ]
    }
   ],
   "metadata": {}
  },
  {
   "cell_type": "code",
   "execution_count": 16,
   "source": [
    "df = pd.DataFrame(conteudo)\r\n",
    "df"
   ],
   "outputs": [
    {
     "output_type": "execute_result",
     "data": {
      "text/plain": [
       "                                                   0\n",
       "0  Athlete Nat Gold Silver Bronze Total\\nRobert S..."
      ],
      "text/html": [
       "<div>\n",
       "<style scoped>\n",
       "    .dataframe tbody tr th:only-of-type {\n",
       "        vertical-align: middle;\n",
       "    }\n",
       "\n",
       "    .dataframe tbody tr th {\n",
       "        vertical-align: top;\n",
       "    }\n",
       "\n",
       "    .dataframe thead th {\n",
       "        text-align: right;\n",
       "    }\n",
       "</style>\n",
       "<table border=\"1\" class=\"dataframe\">\n",
       "  <thead>\n",
       "    <tr style=\"text-align: right;\">\n",
       "      <th></th>\n",
       "      <th>0</th>\n",
       "    </tr>\n",
       "  </thead>\n",
       "  <tbody>\n",
       "    <tr>\n",
       "      <th>0</th>\n",
       "      <td>Athlete Nat Gold Silver Bronze Total\\nRobert S...</td>\n",
       "    </tr>\n",
       "  </tbody>\n",
       "</table>\n",
       "</div>"
      ]
     },
     "metadata": {},
     "execution_count": 16
    }
   ],
   "metadata": {}
  }
 ],
 "metadata": {
  "kernelspec": {
   "name": "python3",
   "display_name": "Python 3.9.2 64-bit"
  },
  "language_info": {
   "codemirror_mode": {
    "name": "ipython",
    "version": 3
   },
   "file_extension": ".py",
   "mimetype": "text/x-python",
   "name": "python",
   "nbconvert_exporter": "python",
   "pygments_lexer": "ipython3",
   "version": "3.9.2"
  },
  "interpreter": {
   "hash": "34d276ea37b3d67f5f4bee3739ccf172b0d800a41da6c574e378ee2d575d0eb8"
  }
 },
 "nbformat": 4,
 "nbformat_minor": 4
}