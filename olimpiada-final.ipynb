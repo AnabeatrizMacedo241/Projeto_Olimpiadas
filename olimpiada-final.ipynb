{
 "cells": [
  {
   "cell_type": "markdown",
   "source": [
    "# Análise sobre as olimpíadas<img src=\"https://upload.wikimedia.org/wikipedia/commons/a/a7/Olympic_flag.svg\" width=\"424\" height=\"324\" align=\"right\">\r\n",
    "## Membros:\r\n",
    "- Ana Beatriz Oliveira de Macedo\r\n",
    "- Abdul Malik \r\n",
    "- Bruna Bellini Faria\r\n",
    "- Heloisa Mariani\r\n",
    "- Marina Lara\r\n",
    "\r\n",
    "**Matéria**: \r\n",
    "Storytelling"
   ],
   "metadata": {}
  },
  {
   "cell_type": "code",
   "execution_count": null,
   "source": [
    "#A fazer:\r\n",
    "#terminar datasets, gráficos, estatísticas"
   ],
   "outputs": [],
   "metadata": {}
  }
 ],
 "metadata": {
  "kernelspec": {
   "display_name": "Python 3",
   "language": "python",
   "name": "python3"
  },
  "language_info": {
   "codemirror_mode": {
    "name": "ipython",
    "version": 3
   },
   "file_extension": ".py",
   "mimetype": "text/x-python",
   "name": "python",
   "nbconvert_exporter": "python",
   "pygments_lexer": "ipython3",
   "version": "3.8.5"
  }
 },
 "nbformat": 4,
 "nbformat_minor": 4
}