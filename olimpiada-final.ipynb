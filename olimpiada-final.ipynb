{
 "cells": [
  {
   "cell_type": "markdown",
   "metadata": {},
   "source": [
    "# Análise sobre as olimpíadas<img src=\"https://upload.wikimedia.org/wikipedia/commons/a/a7/Olympic_flag.svg\" width=\"324\" height=\"324\" align=\"right\">\n",
    "## Membros:\n",
    "- Ana Beatriz Oliveira de Macedo\n",
    "- Abdul Malik \n",
    "- Bruna Bellini Faria\n",
    "- Heloisa Mariani\n",
    "- Marina Lara\n",
    "\n",
    "**Matéria**: \n",
    "Storytelling"
   ]
  },
  {
   "cell_type": "code",
   "execution_count": null,
   "metadata": {},
   "outputs": [],
   "source": [
    "#A fazer:\n",
    "#terminar datasets, gráficos, estatísticas"
   ]
  }
 ],
 "metadata": {
  "kernelspec": {
   "display_name": "Python 3",
   "language": "python",
   "name": "python3"
  },
  "language_info": {
   "codemirror_mode": {
    "name": "ipython",
    "version": 3
   },
   "file_extension": ".py",
   "mimetype": "text/x-python",
   "name": "python",
   "nbconvert_exporter": "python",
   "pygments_lexer": "ipython3",
   "version": "3.8.5"
  }
 },
 "nbformat": 4,
 "nbformat_minor": 4
}
