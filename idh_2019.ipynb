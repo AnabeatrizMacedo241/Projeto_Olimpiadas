{
 "cells": [
  {
   "cell_type": "code",
   "execution_count": 3,
   "source": [
    "from selenium import webdriver\r\n",
    "from selenium.webdriver.common.keys import Keys\r\n",
    "from selenium.webdriver.common.by import By\r\n",
    "from time import sleep\r\n",
    "import numpy as np\r\n",
    "import pandas as pd"
   ],
   "outputs": [],
   "metadata": {}
  },
  {
   "cell_type": "code",
   "execution_count": 4,
   "source": [
    "def obter_driver():\r\n",
    "    return webdriver.Chrome()\r\n",
    "\r\n",
    "def abrir_pagina(driver):\r\n",
    "    driver.get(\"https://www.cnnbrasil.com.br/internacional/veja-o-ranking-completo-de-todos-os-paises-por-idh/\")"
   ],
   "outputs": [],
   "metadata": {}
  },
  {
   "cell_type": "code",
   "execution_count": 5,
   "source": [
    "driver= obter_driver()\r\n",
    "abrir_pagina(driver)"
   ],
   "outputs": [],
   "metadata": {}
  },
  {
   "cell_type": "code",
   "execution_count": 6,
   "source": [
    "cookies= driver.find_element_by_xpath(\"\"\"//*[@id=\"pop__gdpr\"]/div[1]\"\"\")\r\n",
    "cookies.click()  "
   ],
   "outputs": [],
   "metadata": {}
  },
  {
   "cell_type": "code",
   "execution_count": 7,
   "source": [
    "iframe = driver.find_element_by_xpath(\"\"\"/html/body/div[2]/div/div/main/article/div/div[4]/iframe\"\"\")\r\n",
    "driver.switch_to.frame(iframe)"
   ],
   "outputs": [],
   "metadata": {}
  },
  {
   "cell_type": "code",
   "execution_count": 8,
   "source": [
    "def prox_pag():\r\n",
    "    p = driver.find_element_by_xpath(\"\"\"//*[@id=\"pagination\"]/button[2]\"\"\")\r\n",
    "    p.click()"
   ],
   "outputs": [],
   "metadata": {}
  },
  {
   "cell_type": "code",
   "execution_count": 9,
   "source": [
    "linhas = []\r\n",
    "cabecalho = driver.find_element_by_css_selector(\"#header-row\")\r\n",
    "colunas = cabecalho.text.split()\r\n",
    "while(True):\r\n",
    "    try:\r\n",
    "        dados = driver.find_elements_by_css_selector(\"#table-inner .body-row\")\r\n",
    "        for elemento in dados:\r\n",
    "            conteudo = elemento.text.split()\r\n",
    "            colocacao = conteudo[0]\r\n",
    "            if colocacao.isalpha():\r\n",
    "                continue\r\n",
    "            colocacao = int(colocacao)\r\n",
    "            pais = \" \".join(conteudo[1:-1])\r\n",
    "            idh = conteudo[-1]\r\n",
    "            idh = float(idh.replace(',', '.'))\r\n",
    "            linha = [colocacao, pais, idh]\r\n",
    "            linhas.append(linha)\r\n",
    "        prox_pag()\r\n",
    "        sleep(1)\r\n",
    "    except Exception as erro:\r\n",
    "        break\r\n",
    "    \r\n",
    "df_idh = pd.DataFrame(linhas, columns=colunas)"
   ],
   "outputs": [],
   "metadata": {}
  },
  {
   "cell_type": "code",
   "execution_count": 10,
   "source": [
    "df_idh"
   ],
   "outputs": [
    {
     "output_type": "execute_result",
     "data": {
      "text/html": [
       "<div>\n",
       "<style scoped>\n",
       "    .dataframe tbody tr th:only-of-type {\n",
       "        vertical-align: middle;\n",
       "    }\n",
       "\n",
       "    .dataframe tbody tr th {\n",
       "        vertical-align: top;\n",
       "    }\n",
       "\n",
       "    .dataframe thead th {\n",
       "        text-align: right;\n",
       "    }\n",
       "</style>\n",
       "<table border=\"1\" class=\"dataframe\">\n",
       "  <thead>\n",
       "    <tr style=\"text-align: right;\">\n",
       "      <th></th>\n",
       "      <th>Colocação</th>\n",
       "      <th>País</th>\n",
       "      <th>IDH</th>\n",
       "    </tr>\n",
       "  </thead>\n",
       "  <tbody>\n",
       "    <tr>\n",
       "      <th>0</th>\n",
       "      <td>1</td>\n",
       "      <td>Noruega</td>\n",
       "      <td>0.957</td>\n",
       "    </tr>\n",
       "    <tr>\n",
       "      <th>1</th>\n",
       "      <td>2</td>\n",
       "      <td>Suíça</td>\n",
       "      <td>0.955</td>\n",
       "    </tr>\n",
       "    <tr>\n",
       "      <th>2</th>\n",
       "      <td>2</td>\n",
       "      <td>Irlanda</td>\n",
       "      <td>0.955</td>\n",
       "    </tr>\n",
       "    <tr>\n",
       "      <th>3</th>\n",
       "      <td>4</td>\n",
       "      <td>Hong Kong (China)</td>\n",
       "      <td>0.949</td>\n",
       "    </tr>\n",
       "    <tr>\n",
       "      <th>4</th>\n",
       "      <td>4</td>\n",
       "      <td>Islândia</td>\n",
       "      <td>0.949</td>\n",
       "    </tr>\n",
       "    <tr>\n",
       "      <th>...</th>\n",
       "      <td>...</td>\n",
       "      <td>...</td>\n",
       "      <td>...</td>\n",
       "    </tr>\n",
       "    <tr>\n",
       "      <th>199</th>\n",
       "      <td>185</td>\n",
       "      <td>Burundi</td>\n",
       "      <td>0.433</td>\n",
       "    </tr>\n",
       "    <tr>\n",
       "      <th>200</th>\n",
       "      <td>185</td>\n",
       "      <td>Sudão do Sul</td>\n",
       "      <td>0.433</td>\n",
       "    </tr>\n",
       "    <tr>\n",
       "      <th>201</th>\n",
       "      <td>187</td>\n",
       "      <td>Chade</td>\n",
       "      <td>0.398</td>\n",
       "    </tr>\n",
       "    <tr>\n",
       "      <th>202</th>\n",
       "      <td>188</td>\n",
       "      <td>República Centro-Africana</td>\n",
       "      <td>0.397</td>\n",
       "    </tr>\n",
       "    <tr>\n",
       "      <th>203</th>\n",
       "      <td>189</td>\n",
       "      <td>Níger</td>\n",
       "      <td>0.394</td>\n",
       "    </tr>\n",
       "  </tbody>\n",
       "</table>\n",
       "<p>204 rows × 3 columns</p>\n",
       "</div>"
      ],
      "text/plain": [
       "     Colocação                       País    IDH\n",
       "0            1                    Noruega  0.957\n",
       "1            2                      Suíça  0.955\n",
       "2            2                    Irlanda  0.955\n",
       "3            4          Hong Kong (China)  0.949\n",
       "4            4                   Islândia  0.949\n",
       "..         ...                        ...    ...\n",
       "199        185                    Burundi  0.433\n",
       "200        185               Sudão do Sul  0.433\n",
       "201        187                      Chade  0.398\n",
       "202        188  República Centro-Africana  0.397\n",
       "203        189                      Níger  0.394\n",
       "\n",
       "[204 rows x 3 columns]"
      ]
     },
     "metadata": {},
     "execution_count": 10
    }
   ],
   "metadata": {}
  },
  {
   "cell_type": "code",
   "execution_count": 12,
   "source": [
    "df_idh.to_csv('./Data/idh_global2019.csv', sep = ';')"
   ],
   "outputs": [],
   "metadata": {}
  },
  {
   "cell_type": "code",
   "execution_count": 11,
   "source": [
    "df_idh.info()"
   ],
   "outputs": [
    {
     "output_type": "stream",
     "name": "stdout",
     "text": [
      "<class 'pandas.core.frame.DataFrame'>\n",
      "RangeIndex: 204 entries, 0 to 203\n",
      "Data columns (total 3 columns):\n",
      " #   Column     Non-Null Count  Dtype  \n",
      "---  ------     --------------  -----  \n",
      " 0   Colocação  204 non-null    int64  \n",
      " 1   País       204 non-null    object \n",
      " 2   IDH        204 non-null    float64\n",
      "dtypes: float64(1), int64(1), object(1)\n",
      "memory usage: 4.9+ KB\n"
     ]
    }
   ],
   "metadata": {}
  }
 ],
 "metadata": {
  "orig_nbformat": 4,
  "language_info": {
   "name": "python",
   "version": "3.9.2",
   "mimetype": "text/x-python",
   "codemirror_mode": {
    "name": "ipython",
    "version": 3
   },
   "pygments_lexer": "ipython3",
   "nbconvert_exporter": "python",
   "file_extension": ".py"
  },
  "kernelspec": {
   "name": "python3",
   "display_name": "Python 3.9.2 64-bit"
  },
  "interpreter": {
   "hash": "34d276ea37b3d67f5f4bee3739ccf172b0d800a41da6c574e378ee2d575d0eb8"
  }
 },
 "nbformat": 4,
 "nbformat_minor": 2
}